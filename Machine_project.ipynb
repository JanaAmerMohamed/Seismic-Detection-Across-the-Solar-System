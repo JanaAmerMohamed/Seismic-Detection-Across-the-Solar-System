{
 "cells": [
  {
   "cell_type": "code",
   "execution_count": null,
   "metadata": {
    "colab": {
     "base_uri": "https://localhost:8080/"
    },
    "id": "2we1FTUGEGnT",
    "outputId": "d7ee1f87-96ee-4474-8f37-dd0b302de073"
   },
   "outputs": [
    {
     "name": "stdout",
     "output_type": "stream",
     "text": [
      "Mounted at /content/drive\n"
     ]
    }
   ],
   "source": []
  },
  {
   "cell_type": "code",
   "execution_count": null,
   "metadata": {
    "colab": {
     "base_uri": "https://localhost:8080/"
    },
    "id": "Kx5C6HncEzQF",
    "outputId": "3b0a60b5-8aba-46b0-e8d8-cb0070fcd31e"
   },
   "outputs": [
    {
     "name": "stdout",
     "output_type": "stream",
     "text": [
      "Requirement already satisfied: obspy in /usr/local/lib/python3.10/dist-packages (1.4.1)\n",
      "Requirement already satisfied: numpy>=1.20 in /usr/local/lib/python3.10/dist-packages (from obspy) (1.26.4)\n",
      "Requirement already satisfied: scipy>=1.7 in /usr/local/lib/python3.10/dist-packages (from obspy) (1.13.1)\n",
      "Requirement already satisfied: matplotlib>=3.3 in /usr/local/lib/python3.10/dist-packages (from obspy) (3.8.0)\n",
      "Requirement already satisfied: lxml in /usr/local/lib/python3.10/dist-packages (from obspy) (5.3.0)\n",
      "Requirement already satisfied: setuptools in /usr/local/lib/python3.10/dist-packages (from obspy) (75.1.0)\n",
      "Requirement already satisfied: sqlalchemy<2 in /usr/local/lib/python3.10/dist-packages (from obspy) (1.4.54)\n",
      "Requirement already satisfied: decorator in /usr/local/lib/python3.10/dist-packages (from obspy) (4.4.2)\n",
      "Requirement already satisfied: requests in /usr/local/lib/python3.10/dist-packages (from obspy) (2.32.3)\n",
      "Requirement already satisfied: contourpy>=1.0.1 in /usr/local/lib/python3.10/dist-packages (from matplotlib>=3.3->obspy) (1.3.0)\n",
      "Requirement already satisfied: cycler>=0.10 in /usr/local/lib/python3.10/dist-packages (from matplotlib>=3.3->obspy) (0.12.1)\n",
      "Requirement already satisfied: fonttools>=4.22.0 in /usr/local/lib/python3.10/dist-packages (from matplotlib>=3.3->obspy) (4.54.1)\n",
      "Requirement already satisfied: kiwisolver>=1.0.1 in /usr/local/lib/python3.10/dist-packages (from matplotlib>=3.3->obspy) (1.4.7)\n",
      "Requirement already satisfied: packaging>=20.0 in /usr/local/lib/python3.10/dist-packages (from matplotlib>=3.3->obspy) (24.1)\n",
      "Requirement already satisfied: pillow>=6.2.0 in /usr/local/lib/python3.10/dist-packages (from matplotlib>=3.3->obspy) (10.4.0)\n",
      "Requirement already satisfied: pyparsing>=2.3.1 in /usr/local/lib/python3.10/dist-packages (from matplotlib>=3.3->obspy) (3.2.0)\n",
      "Requirement already satisfied: python-dateutil>=2.7 in /usr/local/lib/python3.10/dist-packages (from matplotlib>=3.3->obspy) (2.8.2)\n",
      "Requirement already satisfied: greenlet!=0.4.17 in /usr/local/lib/python3.10/dist-packages (from sqlalchemy<2->obspy) (3.1.1)\n",
      "Requirement already satisfied: charset-normalizer<4,>=2 in /usr/local/lib/python3.10/dist-packages (from requests->obspy) (3.4.0)\n",
      "Requirement already satisfied: idna<4,>=2.5 in /usr/local/lib/python3.10/dist-packages (from requests->obspy) (3.10)\n",
      "Requirement already satisfied: urllib3<3,>=1.21.1 in /usr/local/lib/python3.10/dist-packages (from requests->obspy) (2.2.3)\n",
      "Requirement already satisfied: certifi>=2017.4.17 in /usr/local/lib/python3.10/dist-packages (from requests->obspy) (2024.8.30)\n",
      "Requirement already satisfied: six>=1.5 in /usr/local/lib/python3.10/dist-packages (from python-dateutil>=2.7->matplotlib>=3.3->obspy) (1.16.0)\n"
     ]
    }
   ],
   "source": []
  },
  {
   "cell_type": "code",
   "execution_count": 3,
   "metadata": {
    "colab": {
     "base_uri": "https://localhost:8080/",
     "height": 1000
    },
    "id": "cBeZ5Gi0Fr77",
    "outputId": "536608d1-8fa2-4a62-cca4-5cc460595114"
   },
   "outputs": [],
   "source": [
    "import pandas as pd\n",
    "import polars as pl\n",
    "import matplotlib.pyplot as plt\n",
    "import glob\n",
    "import obspy  # To handle `.mseed` files\n",
    "\n",
    "# Path to the folder in Google Drive containing CSV and `.mseed` files\n",
    "folder_path = 'data/lunar/training/data/S12_GradeA'\n",
    "\n",
    "# Get a list of all CSV and `.mseed` files in the folder\n",
    "csv_files = glob.glob(folder_path + '*.csv')\n",
    "mseed_files = glob.glob(folder_path + '*.mseed')\n",
    "\n",
    "# Load and process each CSV file\n",
    "for file in csv_files:\n",
    "    df_csv = pd.read_csv(file)  # Or `pl.read_csv(file)` for Polars\n",
    "    print(f\"CSV file: {file}\")\n",
    "    print(df_csv.head())  # Display the first few rows\n",
    "\n",
    "# Load and process each `.mseed` file\n",
    "for file in mseed_files:\n",
    "    stream = obspy.read(file)  # Load the `.mseed` file as an ObsPy Stream object\n",
    "    print(f\".mseed file: {file}\")\n",
    "    print(stream)  # Display info about the stream\n",
    "\n",
    "    # You can also plot the `.mseed` data if desired\n",
    "    stream.plot()\n"
   ]
  },
  {
   "cell_type": "code",
   "execution_count": 5,
   "metadata": {
    "colab": {
     "base_uri": "https://localhost:8080/",
     "height": 443
    },
    "id": "MFO4zalhGmfe",
    "outputId": "76864a66-687a-4d59-a8e9-6c260d236a94"
   },
   "outputs": [
    {
     "data": {
      "text/html": [
       "<div><style>\n",
       ".dataframe > thead > tr,\n",
       ".dataframe > tbody > tr {\n",
       "  text-align: right;\n",
       "  white-space: pre-wrap;\n",
       "}\n",
       "</style>\n",
       "<small>shape: (76, 5)</small><table border=\"1\" class=\"dataframe\"><thead><tr><th>filename</th><th>time_abs(%Y-%m-%dT%H:%M:%S.%f)</th><th>time_rel(sec)</th><th>evid</th><th>mq_type</th></tr><tr><td>str</td><td>str</td><td>f64</td><td>str</td><td>str</td></tr></thead><tbody><tr><td>&quot;xa.s12.00.mhz.1970-01-19HR00_e…</td><td>&quot;1970-01-19T20:25:00.000000&quot;</td><td>73500.0</td><td>&quot;evid00002&quot;</td><td>&quot;impact_mq&quot;</td></tr><tr><td>&quot;xa.s12.00.mhz.1970-03-25HR00_e…</td><td>&quot;1970-03-25T03:32:00.000000&quot;</td><td>12720.0</td><td>&quot;evid00003&quot;</td><td>&quot;impact_mq&quot;</td></tr><tr><td>&quot;xa.s12.00.mhz.1970-03-26HR00_e…</td><td>&quot;1970-03-26T20:17:00.000000&quot;</td><td>73020.0</td><td>&quot;evid00004&quot;</td><td>&quot;impact_mq&quot;</td></tr><tr><td>&quot;xa.s12.00.mhz.1970-04-25HR00_e…</td><td>&quot;1970-04-25T01:14:00.000000&quot;</td><td>4440.0</td><td>&quot;evid00006&quot;</td><td>&quot;impact_mq&quot;</td></tr><tr><td>&quot;xa.s12.00.mhz.1970-04-26HR00_e…</td><td>&quot;1970-04-26T14:29:00.000000&quot;</td><td>52140.0</td><td>&quot;evid00007&quot;</td><td>&quot;deep_mq&quot;</td></tr><tr><td>&hellip;</td><td>&hellip;</td><td>&hellip;</td><td>&hellip;</td><td>&hellip;</td></tr><tr><td>&quot;xa.s12.00.mhz.1974-10-14HR00_e…</td><td>&quot;1974-10-14T17:43:00.000000&quot;</td><td>63780.0</td><td>&quot;evid00156&quot;</td><td>&quot;impact_mq&quot;</td></tr><tr><td>&quot;xa.s12.00.mhz.1975-04-12HR00_e…</td><td>&quot;1975-04-12T18:15:00.000000&quot;</td><td>65700.0</td><td>&quot;evid00191&quot;</td><td>&quot;impact_mq&quot;</td></tr><tr><td>&quot;xa.s12.00.mhz.1975-05-04HR00_e…</td><td>&quot;1975-05-04T10:05:00.000000&quot;</td><td>36300.0</td><td>&quot;evid00192&quot;</td><td>&quot;impact_mq&quot;</td></tr><tr><td>&quot;xa.s12.00.mhz.1975-06-24HR00_e…</td><td>&quot;1975-06-24T16:03:00.000000&quot;</td><td>57780.0</td><td>&quot;evid00196&quot;</td><td>&quot;impact_mq&quot;</td></tr><tr><td>&quot;xa.s12.00.mhz.1975-06-26HR00_e…</td><td>&quot;1975-06-26T03:24:00.000000&quot;</td><td>12240.0</td><td>&quot;evid00198&quot;</td><td>&quot;impact_mq&quot;</td></tr></tbody></table></div>"
      ],
      "text/plain": [
       "shape: (76, 5)\n",
       "┌─────────────────────────────┬────────────────────────────┬───────────────┬───────────┬───────────┐\n",
       "│ filename                    ┆ time_abs(%Y-%m-%dT%H:%M:%S ┆ time_rel(sec) ┆ evid      ┆ mq_type   │\n",
       "│ ---                         ┆ .%f)                       ┆ ---           ┆ ---       ┆ ---       │\n",
       "│ str                         ┆ ---                        ┆ f64           ┆ str       ┆ str       │\n",
       "│                             ┆ str                        ┆               ┆           ┆           │\n",
       "╞═════════════════════════════╪════════════════════════════╪═══════════════╪═══════════╪═══════════╡\n",
       "│ xa.s12.00.mhz.1970-01-19HR0 ┆ 1970-01-19T20:25:00.000000 ┆ 73500.0       ┆ evid00002 ┆ impact_mq │\n",
       "│ 0_e…                        ┆                            ┆               ┆           ┆           │\n",
       "│ xa.s12.00.mhz.1970-03-25HR0 ┆ 1970-03-25T03:32:00.000000 ┆ 12720.0       ┆ evid00003 ┆ impact_mq │\n",
       "│ 0_e…                        ┆                            ┆               ┆           ┆           │\n",
       "│ xa.s12.00.mhz.1970-03-26HR0 ┆ 1970-03-26T20:17:00.000000 ┆ 73020.0       ┆ evid00004 ┆ impact_mq │\n",
       "│ 0_e…                        ┆                            ┆               ┆           ┆           │\n",
       "│ xa.s12.00.mhz.1970-04-25HR0 ┆ 1970-04-25T01:14:00.000000 ┆ 4440.0        ┆ evid00006 ┆ impact_mq │\n",
       "│ 0_e…                        ┆                            ┆               ┆           ┆           │\n",
       "│ xa.s12.00.mhz.1970-04-26HR0 ┆ 1970-04-26T14:29:00.000000 ┆ 52140.0       ┆ evid00007 ┆ deep_mq   │\n",
       "│ 0_e…                        ┆                            ┆               ┆           ┆           │\n",
       "│ …                           ┆ …                          ┆ …             ┆ …         ┆ …         │\n",
       "│ xa.s12.00.mhz.1974-10-14HR0 ┆ 1974-10-14T17:43:00.000000 ┆ 63780.0       ┆ evid00156 ┆ impact_mq │\n",
       "│ 0_e…                        ┆                            ┆               ┆           ┆           │\n",
       "│ xa.s12.00.mhz.1975-04-12HR0 ┆ 1975-04-12T18:15:00.000000 ┆ 65700.0       ┆ evid00191 ┆ impact_mq │\n",
       "│ 0_e…                        ┆                            ┆               ┆           ┆           │\n",
       "│ xa.s12.00.mhz.1975-05-04HR0 ┆ 1975-05-04T10:05:00.000000 ┆ 36300.0       ┆ evid00192 ┆ impact_mq │\n",
       "│ 0_e…                        ┆                            ┆               ┆           ┆           │\n",
       "│ xa.s12.00.mhz.1975-06-24HR0 ┆ 1975-06-24T16:03:00.000000 ┆ 57780.0       ┆ evid00196 ┆ impact_mq │\n",
       "│ 0_e…                        ┆                            ┆               ┆           ┆           │\n",
       "│ xa.s12.00.mhz.1975-06-26HR0 ┆ 1975-06-26T03:24:00.000000 ┆ 12240.0       ┆ evid00198 ┆ impact_mq │\n",
       "│ 0_e…                        ┆                            ┆               ┆           ┆           │\n",
       "└─────────────────────────────┴────────────────────────────┴───────────────┴───────────┴───────────┘"
      ]
     },
     "execution_count": 5,
     "metadata": {},
     "output_type": "execute_result"
    }
   ],
   "source": [
    "\n",
    "import matplotlib.pyplot as plt\n",
    "import polars as pl\n",
    "from obspy import read\n",
    "\n",
    "\n",
    "cat = pl.read_csv(\n",
    "    \"data/lunar/training/catalogs/apollo12_catalog_GradeA_final.csv\"\n",
    ")\n",
    "cat"
   ]
  }
 ],
 "metadata": {
  "colab": {
   "provenance": []
  },
  "kernelspec": {
   "display_name": "Python 3",
   "name": "python3"
  },
  "language_info": {
   "codemirror_mode": {
    "name": "ipython",
    "version": 3
   },
   "file_extension": ".py",
   "mimetype": "text/x-python",
   "name": "python",
   "nbconvert_exporter": "python",
   "pygments_lexer": "ipython3",
   "version": "3.10.10"
  }
 },
 "nbformat": 4,
 "nbformat_minor": 0
}
